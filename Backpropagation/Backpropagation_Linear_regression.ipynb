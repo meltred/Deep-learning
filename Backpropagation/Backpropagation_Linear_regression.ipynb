{
  "nbformat": 4,
  "nbformat_minor": 0,
  "metadata": {
    "colab": {
      "provenance": []
    },
    "kernelspec": {
      "name": "python3",
      "display_name": "Python 3"
    },
    "language_info": {
      "name": "python"
    }
  },
  "cells": [
    {
      "cell_type": "code",
      "execution_count": 27,
      "metadata": {
        "id": "j9hbkaN_J7Wh"
      },
      "outputs": [],
      "source": [
        "import tensorflow\n",
        "from tensorflow import keras\n",
        "from keras import Sequential\n",
        "from keras.layers import Dense\n",
        "import numpy as np\n",
        "import pandas as pd"
      ]
    },
    {
      "cell_type": "code",
      "source": [
        "df = pd.DataFrame([[8,8,4],[7,9,5],[6,10,6],[5,12,7]], columns=['cgpa', 'profile_score', 'lpa']) #small dataset"
      ],
      "metadata": {
        "id": "GnAzPAlzOO9_"
      },
      "execution_count": 37,
      "outputs": []
    },
    {
      "cell_type": "code",
      "source": [
        "model = Sequential()\n",
        "model.add(Dense(2, activation='linear',input_dim=2)) #using linear activation for regression problem\n",
        "model.add(Dense(1, activation='linear'))"
      ],
      "metadata": {
        "id": "7lbXDMP5LC7J"
      },
      "execution_count": 28,
      "outputs": []
    },
    {
      "cell_type": "code",
      "source": [
        "model.summary()"
      ],
      "metadata": {
        "colab": {
          "base_uri": "https://localhost:8080/"
        },
        "id": "0zv8U4yoLUIL",
        "outputId": "02991a60-db2e-41b8-b24a-64197930754f"
      },
      "execution_count": 29,
      "outputs": [
        {
          "output_type": "stream",
          "name": "stdout",
          "text": [
            "Model: \"sequential_2\"\n",
            "_________________________________________________________________\n",
            " Layer (type)                Output Shape              Param #   \n",
            "=================================================================\n",
            " dense_4 (Dense)             (None, 2)                 6         \n",
            "                                                                 \n",
            " dense_5 (Dense)             (None, 1)                 3         \n",
            "                                                                 \n",
            "=================================================================\n",
            "Total params: 9 (36.00 Byte)\n",
            "Trainable params: 9 (36.00 Byte)\n",
            "Non-trainable params: 0 (0.00 Byte)\n",
            "_________________________________________________________________\n"
          ]
        }
      ]
    },
    {
      "cell_type": "code",
      "source": [
        "model.get_weights() # keras is assigning random weights"
      ],
      "metadata": {
        "colab": {
          "base_uri": "https://localhost:8080/"
        },
        "id": "DR6hMOR3LWX5",
        "outputId": "25374bbe-fe94-428a-993f-6b923987a3fa"
      },
      "execution_count": 30,
      "outputs": [
        {
          "output_type": "execute_result",
          "data": {
            "text/plain": [
              "[array([[-0.18855095, -0.23956424],\n",
              "        [ 0.29217303, -1.1945776 ]], dtype=float32),\n",
              " array([0., 0.], dtype=float32),\n",
              " array([[-0.06106138],\n",
              "        [ 0.41357887]], dtype=float32),\n",
              " array([0.], dtype=float32)]"
            ]
          },
          "metadata": {},
          "execution_count": 30
        }
      ]
    },
    {
      "cell_type": "code",
      "source": [
        "new_weights = [np.array([[0.1,0.1], [0.1,0.1]],dtype=np.float32),\n",
        "               np.array([0.,0.],dtype=np.float32),\n",
        "               np.array([[0.1],[0.1]],dtype=np.float32),\n",
        "               np.array([0.],dtype=np.float32)]"
      ],
      "metadata": {
        "id": "hD-JtITBLsmy"
      },
      "execution_count": 31,
      "outputs": []
    },
    {
      "cell_type": "code",
      "source": [
        "model.set_weights(new_weights) #but we will overwrite them with simple w with 1 and b with 0"
      ],
      "metadata": {
        "id": "-fq9iBWEMWss"
      },
      "execution_count": 32,
      "outputs": []
    },
    {
      "cell_type": "code",
      "source": [
        "model.get_weights()"
      ],
      "metadata": {
        "colab": {
          "base_uri": "https://localhost:8080/"
        },
        "id": "ANjtU0dnMdmq",
        "outputId": "fdd20e4d-c3cf-438e-fda6-0f6654a3453d"
      },
      "execution_count": 33,
      "outputs": [
        {
          "output_type": "execute_result",
          "data": {
            "text/plain": [
              "[array([[0.1, 0.1],\n",
              "        [0.1, 0.1]], dtype=float32),\n",
              " array([0., 0.], dtype=float32),\n",
              " array([[0.1],\n",
              "        [0.1]], dtype=float32),\n",
              " array([0.], dtype=float32)]"
            ]
          },
          "metadata": {},
          "execution_count": 33
        }
      ]
    },
    {
      "cell_type": "code",
      "source": [
        "optimizer = keras.optimizers.Adam(learning_rate=0.001)  #using Adam optimizer\n",
        "model.compile(loss='mean_squared_error',optimizer=optimizer) #calculating mean squared error"
      ],
      "metadata": {
        "id": "-LDtLT2FMfTz"
      },
      "execution_count": 43,
      "outputs": []
    },
    {
      "cell_type": "code",
      "source": [
        "model.fit(df.iloc[:,0:-1].values,df['lpa'].values,epochs=75,verbose=1,batch_size=1) # after every time we rerun it got better"
      ],
      "metadata": {
        "colab": {
          "base_uri": "https://localhost:8080/"
        },
        "id": "3lrf6T4MM0Ac",
        "outputId": "0c5fd2a2-bb9c-4b71-aabd-0981fd0b0cd5"
      },
      "execution_count": 46,
      "outputs": [
        {
          "output_type": "stream",
          "name": "stdout",
          "text": [
            "Epoch 1/75\n",
            "4/4 [==============================] - 0s 4ms/step - loss: 0.0419\n",
            "Epoch 2/75\n",
            "4/4 [==============================] - 0s 5ms/step - loss: 0.0415\n",
            "Epoch 3/75\n",
            "4/4 [==============================] - 0s 6ms/step - loss: 0.0413\n",
            "Epoch 4/75\n",
            "4/4 [==============================] - 0s 5ms/step - loss: 0.0410\n",
            "Epoch 5/75\n",
            "4/4 [==============================] - 0s 4ms/step - loss: 0.0415\n",
            "Epoch 6/75\n",
            "4/4 [==============================] - 0s 4ms/step - loss: 0.0410\n",
            "Epoch 7/75\n",
            "4/4 [==============================] - 0s 5ms/step - loss: 0.0413\n",
            "Epoch 8/75\n",
            "4/4 [==============================] - 0s 5ms/step - loss: 0.0404\n",
            "Epoch 9/75\n",
            "4/4 [==============================] - 0s 5ms/step - loss: 0.0400\n",
            "Epoch 10/75\n",
            "4/4 [==============================] - 0s 5ms/step - loss: 0.0398\n",
            "Epoch 11/75\n",
            "4/4 [==============================] - 0s 5ms/step - loss: 0.0399\n",
            "Epoch 12/75\n",
            "4/4 [==============================] - 0s 4ms/step - loss: 0.0398\n",
            "Epoch 13/75\n",
            "4/4 [==============================] - 0s 4ms/step - loss: 0.0393\n",
            "Epoch 14/75\n",
            "4/4 [==============================] - 0s 5ms/step - loss: 0.0396\n",
            "Epoch 15/75\n",
            "4/4 [==============================] - 0s 5ms/step - loss: 0.0394\n",
            "Epoch 16/75\n",
            "4/4 [==============================] - 0s 5ms/step - loss: 0.0396\n",
            "Epoch 17/75\n",
            "4/4 [==============================] - 0s 4ms/step - loss: 0.0396\n",
            "Epoch 18/75\n",
            "4/4 [==============================] - 0s 5ms/step - loss: 0.0387\n",
            "Epoch 19/75\n",
            "4/4 [==============================] - 0s 5ms/step - loss: 0.0385\n",
            "Epoch 20/75\n",
            "4/4 [==============================] - 0s 5ms/step - loss: 0.0383\n",
            "Epoch 21/75\n",
            "4/4 [==============================] - 0s 5ms/step - loss: 0.0381\n",
            "Epoch 22/75\n",
            "4/4 [==============================] - 0s 5ms/step - loss: 0.0387\n",
            "Epoch 23/75\n",
            "4/4 [==============================] - 0s 5ms/step - loss: 0.0384\n",
            "Epoch 24/75\n",
            "4/4 [==============================] - 0s 4ms/step - loss: 0.0381\n",
            "Epoch 25/75\n",
            "4/4 [==============================] - 0s 4ms/step - loss: 0.0381\n",
            "Epoch 26/75\n",
            "4/4 [==============================] - 0s 5ms/step - loss: 0.0375\n",
            "Epoch 27/75\n",
            "4/4 [==============================] - 0s 6ms/step - loss: 0.0373\n",
            "Epoch 28/75\n",
            "4/4 [==============================] - 0s 4ms/step - loss: 0.0375\n",
            "Epoch 29/75\n",
            "4/4 [==============================] - 0s 4ms/step - loss: 0.0377\n",
            "Epoch 30/75\n",
            "4/4 [==============================] - 0s 4ms/step - loss: 0.0371\n",
            "Epoch 31/75\n",
            "4/4 [==============================] - 0s 4ms/step - loss: 0.0372\n",
            "Epoch 32/75\n",
            "4/4 [==============================] - 0s 3ms/step - loss: 0.0375\n",
            "Epoch 33/75\n",
            "4/4 [==============================] - 0s 4ms/step - loss: 0.0366\n",
            "Epoch 34/75\n",
            "4/4 [==============================] - 0s 5ms/step - loss: 0.0365\n",
            "Epoch 35/75\n",
            "4/4 [==============================] - 0s 3ms/step - loss: 0.0368\n",
            "Epoch 36/75\n",
            "4/4 [==============================] - 0s 4ms/step - loss: 0.0371\n",
            "Epoch 37/75\n",
            "4/4 [==============================] - 0s 4ms/step - loss: 0.0362\n",
            "Epoch 38/75\n",
            "4/4 [==============================] - 0s 3ms/step - loss: 0.0360\n",
            "Epoch 39/75\n",
            "4/4 [==============================] - 0s 3ms/step - loss: 0.0365\n",
            "Epoch 40/75\n",
            "4/4 [==============================] - 0s 3ms/step - loss: 0.0366\n",
            "Epoch 41/75\n",
            "4/4 [==============================] - 0s 4ms/step - loss: 0.0358\n",
            "Epoch 42/75\n",
            "4/4 [==============================] - 0s 3ms/step - loss: 0.0358\n",
            "Epoch 43/75\n",
            "4/4 [==============================] - 0s 3ms/step - loss: 0.0356\n",
            "Epoch 44/75\n",
            "4/4 [==============================] - 0s 4ms/step - loss: 0.0355\n",
            "Epoch 45/75\n",
            "4/4 [==============================] - 0s 4ms/step - loss: 0.0356\n",
            "Epoch 46/75\n",
            "4/4 [==============================] - 0s 4ms/step - loss: 0.0352\n",
            "Epoch 47/75\n",
            "4/4 [==============================] - 0s 4ms/step - loss: 0.0353\n",
            "Epoch 48/75\n",
            "4/4 [==============================] - 0s 3ms/step - loss: 0.0350\n",
            "Epoch 49/75\n",
            "4/4 [==============================] - 0s 3ms/step - loss: 0.0354\n",
            "Epoch 50/75\n",
            "4/4 [==============================] - 0s 3ms/step - loss: 0.0356\n",
            "Epoch 51/75\n",
            "4/4 [==============================] - 0s 4ms/step - loss: 0.0353\n",
            "Epoch 52/75\n",
            "4/4 [==============================] - 0s 4ms/step - loss: 0.0350\n",
            "Epoch 53/75\n",
            "4/4 [==============================] - 0s 4ms/step - loss: 0.0349\n",
            "Epoch 54/75\n",
            "4/4 [==============================] - 0s 3ms/step - loss: 0.0348\n",
            "Epoch 55/75\n",
            "4/4 [==============================] - 0s 3ms/step - loss: 0.0349\n",
            "Epoch 56/75\n",
            "4/4 [==============================] - 0s 3ms/step - loss: 0.0351\n",
            "Epoch 57/75\n",
            "4/4 [==============================] - 0s 3ms/step - loss: 0.0354\n",
            "Epoch 58/75\n",
            "4/4 [==============================] - 0s 3ms/step - loss: 0.0345\n",
            "Epoch 59/75\n",
            "4/4 [==============================] - 0s 3ms/step - loss: 0.0344\n",
            "Epoch 60/75\n",
            "4/4 [==============================] - 0s 3ms/step - loss: 0.0353\n",
            "Epoch 61/75\n",
            "4/4 [==============================] - 0s 4ms/step - loss: 0.0343\n",
            "Epoch 62/75\n",
            "4/4 [==============================] - 0s 3ms/step - loss: 0.0342\n",
            "Epoch 63/75\n",
            "4/4 [==============================] - 0s 3ms/step - loss: 0.0344\n",
            "Epoch 64/75\n",
            "4/4 [==============================] - 0s 3ms/step - loss: 0.0339\n",
            "Epoch 65/75\n",
            "4/4 [==============================] - 0s 3ms/step - loss: 0.0344\n",
            "Epoch 66/75\n",
            "4/4 [==============================] - 0s 3ms/step - loss: 0.0340\n",
            "Epoch 67/75\n",
            "4/4 [==============================] - 0s 4ms/step - loss: 0.0352\n",
            "Epoch 68/75\n",
            "4/4 [==============================] - 0s 4ms/step - loss: 0.0339\n",
            "Epoch 69/75\n",
            "4/4 [==============================] - 0s 3ms/step - loss: 0.0338\n",
            "Epoch 70/75\n",
            "4/4 [==============================] - 0s 3ms/step - loss: 0.0339\n",
            "Epoch 71/75\n",
            "4/4 [==============================] - 0s 5ms/step - loss: 0.0345\n",
            "Epoch 72/75\n",
            "4/4 [==============================] - 0s 4ms/step - loss: 0.0342\n",
            "Epoch 73/75\n",
            "4/4 [==============================] - 0s 4ms/step - loss: 0.0336\n",
            "Epoch 74/75\n",
            "4/4 [==============================] - 0s 4ms/step - loss: 0.0337\n",
            "Epoch 75/75\n",
            "4/4 [==============================] - 0s 3ms/step - loss: 0.0334\n"
          ]
        },
        {
          "output_type": "execute_result",
          "data": {
            "text/plain": [
              "<keras.src.callbacks.History at 0x7925ec1da4d0>"
            ]
          },
          "metadata": {},
          "execution_count": 46
        }
      ]
    },
    {
      "cell_type": "code",
      "source": [
        "model.get_weights() #after every iteration weights changes"
      ],
      "metadata": {
        "colab": {
          "base_uri": "https://localhost:8080/"
        },
        "id": "34lRrMJLNBZs",
        "outputId": "e4320da6-a540-4405-9092-7d9c93d7b775"
      },
      "execution_count": 48,
      "outputs": [
        {
          "output_type": "execute_result",
          "data": {
            "text/plain": [
              "[array([[-0.13814676, -0.13814676],\n",
              "        [ 0.6203912 ,  0.6203912 ]], dtype=float32),\n",
              " array([0.17570153, 0.17570153], dtype=float32),\n",
              " array([[0.4987826],\n",
              "        [0.4987826]], dtype=float32),\n",
              " array([0.18597715], dtype=float32)]"
            ]
          },
          "metadata": {},
          "execution_count": 48
        }
      ]
    }
  ]
}